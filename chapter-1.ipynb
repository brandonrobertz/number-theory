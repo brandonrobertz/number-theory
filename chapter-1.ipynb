{
 "cells": [
  {
   "cell_type": "code",
   "execution_count": 66,
   "id": "6237473d-d3d9-4ac6-9ee8-b2e26e342025",
   "metadata": {},
   "outputs": [
    {
     "data": {
      "application/vnd.jupyter.widget-view+json": {
       "model_id": "c542ebdad2e64ddb991c8d096af67ba4",
       "version_major": 2,
       "version_minor": 0
      },
      "text/plain": [
       "Interactive function <function _ at 0x1699f74c0> with 3 widgets\n",
       "  a: Dropdown(description='a', index=1, options=(2, 3, 4, 5, 6, 7, 8, 9, 10), value=3)\n",
       "  b: Dropdown(description='b', index=2, options=(2, 3, 4, 5, 6, 7, 8, 9, 10), value=4)\n",
       "  n: Dropdown(description='n', index=10, options=(10, 11, 12, 13, 14, 15, 16, 17, 18, 19, 20, 21, 22, 23, 24, 25, 26, 27, 28, 29, 30, 31, 32, 33, 34, 35, 36, 37, 38, 39, 40, 41, 42, 43, 44, 45, 46, 47, 48, 49, 50), value=20)"
      ]
     },
     "metadata": {},
     "output_type": "display_data"
    }
   ],
   "source": [
    "def frobenius_sets(a=3,b=4,n=None):\n",
    "    if n is None:\n",
    "        n = a*b\n",
    "    list_of_them=list(set([a*x+b*y for x in srange(n/a+1) for y in srange(n/b+1)]))\n",
    "    list_of_them=[item for item in list_of_them if item <= n ]\n",
    "    list_of_them.sort()\n",
    "    return list_of_them\n",
    "\n",
    "@interact\n",
    "def _(a=(3,[2..10]),b=(4,[2..10]),n=(20,[10..50])):\n",
    "    list_of_them=frobenius_sets(a=a,b=b,n=n)\n",
    "    pretty_print(html(\"The nonnegative integers up to $n=%s$ which can be\"%(str(n))))\n",
    "    pretty_print(html(\"written as positive combinations of  $a=%s$ and $b=%s$ are:\"%(str(a),str(b))))\n",
    "    print(list_of_them)"
   ]
  },
  {
   "cell_type": "code",
   "execution_count": 67,
   "id": "1ede262a-af84-4692-8cfa-a55765b12489",
   "metadata": {},
   "outputs": [],
   "source": [
    "def conductor(s):\n",
    "    s_list = list(s)\n",
    "    c = None\n",
    "    for i in range(len(s_list)-1, 1, -1):\n",
    "        #print(i, s[i], s[i-1])\n",
    "        if (s[i] - 1) == s[i-1]:\n",
    "            c = s[i-1]\n",
    "        else:\n",
    "            break\n",
    "    return c"
   ]
  },
  {
   "cell_type": "code",
   "execution_count": 49,
   "id": "aa9ec0d6-038b-4548-8226-6a876c53b95a",
   "metadata": {},
   "outputs": [
    {
     "name": "stdout",
     "output_type": "stream",
     "text": [
      "conductor for set(2, 3) is 3\n"
     ]
    }
   ],
   "source": [
    "s1 = frobenius_sets(a=2, b=3)\n",
    "c1 = conductor(s1)\n",
    "print(\"conductor for set(2, 3) is\", c1)"
   ]
  },
  {
   "cell_type": "code",
   "execution_count": 50,
   "id": "f305ae03-6fea-490b-9fae-041953a886d5",
   "metadata": {},
   "outputs": [
    {
     "name": "stdout",
     "output_type": "stream",
     "text": [
      "conductor for set(2, 4) is None\n"
     ]
    }
   ],
   "source": [
    "s2 = frobenius_sets(a=2, b=4)\n",
    "c2 = conductor(s2)\n",
    "print(\"conductor for set(2, 4) is\", c2)"
   ]
  },
  {
   "cell_type": "code",
   "execution_count": 51,
   "id": "1b8d028e-cd6b-47e5-bdcb-428f53138c65",
   "metadata": {},
   "outputs": [
    {
     "name": "stdout",
     "output_type": "stream",
     "text": [
      "[0, 3, 6, 7, 9, 10, 12, 13, 14, 15, 16, 17, 18, 19, 20]\n",
      "conductor for set(3, 7) is 13\n"
     ]
    }
   ],
   "source": [
    "a = 3; b = 7\n",
    "s3 = frobenius_sets(a=3, b=7)\n",
    "print(s3)\n",
    "c3 = conductor(s3)\n",
    "print(f\"conductor for set({a}, {b}) is\", c3)"
   ]
  },
  {
   "cell_type": "code",
   "execution_count": 72,
   "id": "88092063-97cd-417e-a1fa-c626ba4242cf",
   "metadata": {
    "scrolled": true
   },
   "outputs": [
    {
     "data": {
      "image/png": "[encoded data removed]",
      "text/plain": [
       "Graphics object consisting of 1 graphics primitive"
      ]
     },
     "execution_count": 72,
     "metadata": {},
     "output_type": "execute_result"
    }
   ],
   "source": [
    "have_c = []\n",
    "upper=25\n",
    "for a in range(1, upper):\n",
    "    for b in range(1, upper):\n",
    "        s = frobenius_sets(a=a, b=b, n=a*b)\n",
    "        c = conductor(s)\n",
    "        if c:\n",
    "            have_c.append((a, b))\n",
    "\n",
    "scatter_plot(have_c)"
   ]
  },
  {
   "cell_type": "code",
   "execution_count": null,
   "id": "121f012e-6623-420f-903e-462014f09c36",
   "metadata": {},
   "outputs": [],
   "source": [
    "# This is exactly the same as Davey's bitmap!!"
   ]
  }
 ],
 "metadata": {
  "kernelspec": {
   "display_name": "SageMath 10.2",
   "language": "sage",
   "name": "sagemath"
  },
  "language_info": {
   "codemirror_mode": {
    "name": "ipython",
    "version": 3
   },
   "file_extension": ".py",
   "mimetype": "text/x-python",
   "name": "python",
   "nbconvert_exporter": "python",
   "pygments_lexer": "ipython3",
   "version": "3.11.1"
  }
 },
 "nbformat": 4,
 "nbformat_minor": 5
}
